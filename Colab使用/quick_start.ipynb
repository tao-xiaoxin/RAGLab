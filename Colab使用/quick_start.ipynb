{
 "cells": [
  {
   "cell_type": "markdown",
   "metadata": {
    "id": "k_5KKQWNue_w"
   },
   "source": [
    "# Google Colab 实用教程\n",
    "\n",
    "专注于机器学习项目中最实用的功能：数据集管理、模型训练与保存。\n",
    "\n",
    "## 📋 核心功能\n",
    "1. [云盘挂载与数据集加载](#1-云盘挂载与数据集加载)\n",
    "2. [GPU配置与验证](#2-GPU配置与验证)  \n",
    "3. [模型训练与保存](#3-模型训练与保存)\n",
    "4. [实用技巧](#4-实用技巧)\n",
    "\n",
    "---\n",
    "\n",
    "## 1. 云盘挂载与数据集加载\n",
    "\n",
    "### 1.1 挂载Google Drive\n"
   ]
  },
  {
   "cell_type": "code",
   "execution_count": 2,
   "metadata": {
    "colab": {
     "base_uri": "https://localhost:8080/"
    },
    "executionInfo": {
     "elapsed": 19376,
     "status": "ok",
     "timestamp": 1758550295431,
     "user": {
      "displayName": "Xiaoxin Tao",
      "userId": "17474859127382790787"
     },
     "user_tz": 420
    },
    "id": "H1j3NSzHrKqj",
    "outputId": "f5fda6bc-ad77-4843-b13c-a47a4d65c82b"
   },
   "outputs": [
    {
     "name": "stdout",
     "output_type": "stream",
     "text": [
      "Mounted at /content/drive\n"
     ]
    }
   ],
   "source": [
    "\n",
    "from google.colab import drive\n",
    "drive.mount('/content/drive')\n"
   ]
  },
  {
   "cell_type": "markdown",
   "metadata": {
    "id": "KoOdA8C8xQmn"
   },
   "source": [
    "### 1.2 加载数据集\n",
    "\n",
    "以下是常见的数据集加载方式："
   ]
  },
  {
   "cell_type": "code",
   "execution_count": null,
   "metadata": {
    "colab": {
     "base_uri": "https://localhost:8080/"
    },
    "executionInfo": {
     "elapsed": 220,
     "status": "ok",
     "timestamp": 1758550409330,
     "user": {
      "displayName": "Xiaoxin Tao",
      "userId": "17474859127382790787"
     },
     "user_tz": 420
    },
    "id": "CVAJu01Dsl_E",
    "outputId": "f77fbad0-b232-4191-dcfc-ed62cabfe897"
   },
   "outputs": [
    {
     "name": "stdout",
     "output_type": "stream",
     "text": [
      "Mon Sep 22 14:13:29 2025       \n",
      "+-----------------------------------------------------------------------------------------+\n",
      "| NVIDIA-SMI 550.54.15              Driver Version: 550.54.15      CUDA Version: 12.4     |\n",
      "|-----------------------------------------+------------------------+----------------------+\n",
      "| GPU  Name                 Persistence-M | Bus-Id          Disp.A | Volatile Uncorr. ECC |\n",
      "| Fan  Temp   Perf          Pwr:Usage/Cap |           Memory-Usage | GPU-Util  Compute M. |\n",
      "|                                         |                        |               MIG M. |\n",
      "|=========================================+========================+======================|\n",
      "|   0  NVIDIA A100-SXM4-40GB          Off |   00000000:00:04.0 Off |                    0 |\n",
      "| N/A   32C    P0             45W /  400W |       0MiB /  40960MiB |      0%      Default |\n",
      "|                                         |                        |             Disabled |\n",
      "+-----------------------------------------+------------------------+----------------------+\n",
      "                                                                                         \n",
      "+-----------------------------------------------------------------------------------------+\n",
      "| Processes:                                                                              |\n",
      "|  GPU   GI   CI        PID   Type   Process name                              GPU Memory |\n",
      "|        ID   ID                                                               Usage      |\n",
      "|=========================================================================================|\n",
      "|  No running processes found                                                             |\n",
      "+-----------------------------------------------------------------------------------------+\n"
     ]
    }
   ],
   "source": [
    "# 1. 从云盘加载数据集\n",
    "import pandas as pd\n",
    "import numpy as np\n",
    "import os\n",
    "\n",
    "# 设置数据集路径（云盘中的路径）\n",
    "dataset_path = \"/content/drive/MyDrive/datasets/\"\n",
    "\n",
    "# 加载CSV数据集\n",
    "# df = pd.read_csv(dataset_path + \"train.csv\")\n",
    "# print(f\"数据集形状: {df.shape}\")\n",
    "\n",
    "# 2. 从云盘加载图像数据集\n",
    "from PIL import Image\n",
    "import matplotlib.pyplot as plt\n",
    "\n",
    "# 图像数据集路径示例\n",
    "# image_folder = \"/content/drive/MyDrive/datasets/images/\"\n",
    "# image_files = os.listdir(image_folder)\n",
    "# print(f\"找到 {len(image_files)} 个图像文件\")\n",
    "\n",
    "# 3. 从云盘加载预处理好的numpy数组\n",
    "# X_train = np.load(\"/content/drive/MyDrive/datasets/X_train.npy\")\n",
    "# y_train = np.load(\"/content/drive/MyDrive/datasets/y_train.npy\")\n",
    "# print(f\"训练数据形状: {X_train.shape}, 标签形状: {y_train.shape}\")\n",
    "\n",
    "print(\"数据集加载模板已准备好，请根据实际路径修改代码\")"
   ]
  },
  {
   "cell_type": "markdown",
   "metadata": {},
   "source": [
    "## 2. GPU配置与验证\n",
    "\n",
    "### 2.1 查看分配的GPU\n",
    "\n",
    "**重要提示**: 要使用GPU，请先设置运行时类型：\n",
    "- 点击 **运行时** → **更改运行时类型** → **硬件加速器** → 选择 **GPU**\n"
   ]
  },
  {
   "cell_type": "code",
   "execution_count": null,
   "metadata": {},
   "outputs": [],
   "source": [
    "# 查看分配到的GPU详细信息\n",
    "gpu_info = !nvidia-smi\n",
    "gpu_info = '\\n'.join(gpu_info)\n",
    "if gpu_info.find('failed') >= 0:\n",
    "  print('❌ 未连接到GPU')\n",
    "  print('请检查运行时设置: 运行时 -> 更改运行时类型 -> GPU')\n",
    "else:\n",
    "  print('✅ GPU信息:')\n",
    "  print(gpu_info)\n",
    "\n",
    "print(\"\\n\" + \"=\"*60)\n",
    "\n",
    "# 检查GPU和深度学习框架\n",
    "import torch\n",
    "import tensorflow as tf\n",
    "\n",
    "print(\"=== 深度学习框架 GPU 支持检查 ===\")\n",
    "\n",
    "# PyTorch GPU检查\n",
    "print(f\"PyTorch版本: {torch.__version__}\")\n",
    "print(f\"CUDA可用: {torch.cuda.is_available()}\")\n",
    "if torch.cuda.is_available():\n",
    "    print(f\"GPU设备: {torch.cuda.get_device_name(0)}\")\n",
    "    print(f\"GPU内存: {torch.cuda.get_device_properties(0).total_memory / 1024**3:.1f} GB\")\n",
    "    print(f\"当前GPU设备: cuda:{torch.cuda.current_device()}\")\n",
    "\n",
    "print()\n",
    "\n",
    "# TensorFlow GPU检查  \n",
    "print(f\"TensorFlow版本: {tf.__version__}\")\n",
    "gpus = tf.config.experimental.list_physical_devices('GPU')\n",
    "print(f\"TensorFlow检测到的GPU: {len(gpus)} 个\")\n",
    "for gpu in gpus:\n",
    "    print(f\"  - {gpu}\")\n",
    "\n",
    "# 设置GPU内存增长（避免占用全部显存）\n",
    "if gpus:\n",
    "    try:\n",
    "        for gpu in gpus:\n",
    "            tf.config.experimental.set_memory_growth(gpu, True)\n",
    "        print(\"✅ GPU内存增长模式已设置\")\n",
    "    except RuntimeError as e:\n",
    "        print(f\"❌ 设置GPU内存增长失败: {e}\")\n"
   ]
  },
  {
   "cell_type": "markdown",
   "metadata": {},
   "source": [
    "## 3. 模型训练与保存\n",
    "\n",
    "### 3.1 模型保存到云盘\n"
   ]
  },
  {
   "cell_type": "code",
   "execution_count": null,
   "metadata": {},
   "outputs": [],
   "source": [
    "# 模型保存示例\n",
    "import os\n",
    "from datetime import datetime\n",
    "\n",
    "# 创建模型保存目录\n",
    "model_save_path = \"/content/drive/MyDrive/models/\"\n",
    "os.makedirs(model_save_path, exist_ok=True)\n",
    "\n",
    "# 1. PyTorch模型保存\n",
    "\"\"\"\n",
    "# 训练完成后保存模型\n",
    "model_name = f\"my_model_{datetime.now().strftime('%Y%m%d_%H%M')}.pth\"\n",
    "torch.save(model.state_dict(), model_save_path + model_name)\n",
    "print(f\"PyTorch模型已保存: {model_save_path + model_name}\")\n",
    "\n",
    "# 保存完整模型（包括架构）\n",
    "torch.save(model, model_save_path + f\"complete_model_{datetime.now().strftime('%Y%m%d_%H%M')}.pth\")\n",
    "\"\"\"\n",
    "\n",
    "# 2. TensorFlow/Keras模型保存\n",
    "\"\"\"\n",
    "# 保存整个模型\n",
    "model.save(model_save_path + f\"tf_model_{datetime.now().strftime('%Y%m%d_%H%M')}.h5\")\n",
    "\n",
    "# 保存权重\n",
    "model.save_weights(model_save_path + f\"tf_weights_{datetime.now().strftime('%Y%m%d_%H%M')}.h5\")\n",
    "\n",
    "# 保存为SavedModel格式（推荐）\n",
    "model.save(model_save_path + f\"saved_model_{datetime.now().strftime('%Y%m%d_%H%M')}\")\n",
    "\"\"\"\n",
    "\n",
    "# 3. 保存训练历史和配置\n",
    "\"\"\"\n",
    "import json\n",
    "import pickle\n",
    "\n",
    "# 保存训练配置\n",
    "config = {\n",
    "    'learning_rate': 0.001,\n",
    "    'batch_size': 32,\n",
    "    'epochs': 100,\n",
    "    'model_architecture': 'ResNet50'\n",
    "}\n",
    "with open(model_save_path + 'config.json', 'w') as f:\n",
    "    json.dump(config, f, indent=2)\n",
    "\n",
    "# 保存训练历史\n",
    "with open(model_save_path + 'training_history.pkl', 'wb') as f:\n",
    "    pickle.dump(history.history, f)\n",
    "\"\"\"\n",
    "\n",
    "print(f\"模型保存目录已创建: {model_save_path}\")\n",
    "print(\"请在训练完成后取消注释相应代码来保存模型\")\n"
   ]
  },
  {
   "cell_type": "markdown",
   "metadata": {},
   "source": [
    "### 3.2 模型加载与断点续训\n"
   ]
  },
  {
   "cell_type": "code",
   "execution_count": null,
   "metadata": {},
   "outputs": [],
   "source": [
    "# 模型加载和断点续训\n",
    "import glob\n",
    "\n",
    "# 1. 从云盘加载预训练模型\n",
    "def load_latest_model(model_dir, model_type=\"pytorch\"):\n",
    "    \"\"\"加载最新的模型文件\"\"\"\n",
    "    if model_type == \"pytorch\":\n",
    "        model_files = glob.glob(os.path.join(model_dir, \"*.pth\"))\n",
    "    else:  # tensorflow\n",
    "        model_files = glob.glob(os.path.join(model_dir, \"*.h5\"))\n",
    "    \n",
    "    if model_files:\n",
    "        latest_model = max(model_files, key=os.path.getctime)\n",
    "        print(f\"找到最新模型: {latest_model}\")\n",
    "        return latest_model\n",
    "    else:\n",
    "        print(\"未找到模型文件\")\n",
    "        return None\n",
    "\n",
    "# 2. PyTorch模型加载示例\n",
    "\"\"\"\n",
    "# 加载模型权重\n",
    "model = YourModel()  # 先创建模型实例\n",
    "latest_model_path = load_latest_model(model_save_path, \"pytorch\")\n",
    "if latest_model_path:\n",
    "    model.load_state_dict(torch.load(latest_model_path))\n",
    "    print(\"PyTorch模型权重加载完成\")\n",
    "\n",
    "# 加载完整模型\n",
    "# model = torch.load(latest_model_path)\n",
    "\"\"\"\n",
    "\n",
    "# 3. TensorFlow模型加载示例\n",
    "\"\"\"\n",
    "from tensorflow.keras.models import load_model\n",
    "\n",
    "latest_model_path = load_latest_model(model_save_path, \"tensorflow\") \n",
    "if latest_model_path:\n",
    "    model = load_model(latest_model_path)\n",
    "    print(\"TensorFlow模型加载完成\")\n",
    "\"\"\"\n",
    "\n",
    "# 4. 断点续训设置\n",
    "\"\"\"\n",
    "# 设置检查点回调\n",
    "from tensorflow.keras.callbacks import ModelCheckpoint\n",
    "\n",
    "checkpoint_path = model_save_path + \"checkpoint_epoch_{epoch:02d}.h5\"\n",
    "checkpoint_callback = ModelCheckpoint(\n",
    "    filepath=checkpoint_path,\n",
    "    save_weights_only=True,\n",
    "    save_freq='epoch',  # 每个epoch保存一次\n",
    "    verbose=1\n",
    ")\n",
    "\n",
    "# 训练时使用回调\n",
    "# model.fit(X_train, y_train, callbacks=[checkpoint_callback])\n",
    "\"\"\"\n",
    "\n",
    "print(\"模型加载和断点续训代码模板已准备好\")\n"
   ]
  },
  {
   "cell_type": "markdown",
   "metadata": {},
   "source": [
    "## 4. 实用技巧\n",
    "\n",
    "### 4.1 防止连接超时\n"
   ]
  },
  {
   "cell_type": "code",
   "execution_count": null,
   "metadata": {},
   "outputs": [],
   "source": [
    "# Colab实用技巧合集\n",
    "\n",
    "# 1. 防止连接超时的JavaScript代码\n",
    "from IPython.display import display, Javascript\n",
    "\n",
    "def prevent_colab_timeout():\n",
    "    \"\"\"防止Colab因为不活跃而断开连接\"\"\"\n",
    "    display(Javascript('''\n",
    "    function ClickConnect(){\n",
    "        console.log(\"Working\");\n",
    "        document.querySelector(\"colab-connect-button\").click()\n",
    "    }\n",
    "    setInterval(ClickConnect,60000)\n",
    "    '''))\n",
    "\n",
    "# 运行此函数来防止超时\n",
    "# prevent_colab_timeout()\n",
    "\n",
    "# 2. 清理GPU内存\n",
    "def clear_gpu_memory():\n",
    "    \"\"\"清理GPU内存\"\"\"\n",
    "    if torch.cuda.is_available():\n",
    "        torch.cuda.empty_cache()\n",
    "        print(\"PyTorch GPU内存已清理\")\n",
    "    \n",
    "    # TensorFlow清理\n",
    "    try:\n",
    "        from tensorflow.keras import backend as K\n",
    "        K.clear_session()\n",
    "        print(\"TensorFlow内存已清理\")\n",
    "    except:\n",
    "        pass\n",
    "\n",
    "# 3. 监控训练进度\n",
    "def setup_training_monitor():\n",
    "    \"\"\"设置训练监控\"\"\"\n",
    "    code = \"\"\"\n",
    "    # 可以在训练循环中使用\n",
    "    from tqdm import tqdm\n",
    "    import matplotlib.pyplot as plt\n",
    "    \n",
    "    # 进度条\n",
    "    for epoch in tqdm(range(num_epochs), desc=\"Training\"):\n",
    "        # 训练代码\n",
    "        pass\n",
    "    \n",
    "    # 实时绘图\n",
    "    from IPython.display import clear_output\n",
    "    \n",
    "    def plot_training_progress(train_losses, val_losses):\n",
    "        clear_output(wait=True)\n",
    "        plt.figure(figsize=(10, 4))\n",
    "        plt.subplot(1, 2, 1)\n",
    "        plt.plot(train_losses, label='Training Loss')\n",
    "        plt.plot(val_losses, label='Validation Loss')\n",
    "        plt.legend()\n",
    "        plt.title('Training Progress')\n",
    "        plt.show()\n",
    "    \"\"\"\n",
    "    print(\"训练监控代码模板:\")\n",
    "    print(code)\n",
    "\n",
    "setup_training_monitor()\n"
   ]
  },
  {
   "cell_type": "markdown",
   "metadata": {},
   "source": [
    "### 4.2 常用命令和快捷键\n"
   ]
  },
  {
   "cell_type": "code",
   "execution_count": null,
   "metadata": {},
   "outputs": [],
   "source": [
    "# 常用技巧总结\n",
    "\n",
    "print(\"=== Colab 实用技巧总结 ===\")\n",
    "print()\n",
    "\n",
    "print(\"📌 重要提示:\")\n",
    "print(\"1. 免费版GPU使用时间有限(约12小时)，合理安排训练时间\")\n",
    "print(\"2. 运行时会在12小时后或不活跃90分钟后重置\")\n",
    "print(\"3. 重要数据务必保存到云盘！\")\n",
    "print()\n",
    "\n",
    "print(\"⌨️ 常用快捷键:\")\n",
    "print(\"- Ctrl+Enter: 运行当前单元格\")\n",
    "print(\"- Shift+Enter: 运行当前单元格并选择下一个\")\n",
    "print(\"- Ctrl+M+A: 在上方插入单元格\")\n",
    "print(\"- Ctrl+M+B: 在下方插入单元格\")\n",
    "print(\"- Ctrl+M+D: 删除单元格\")\n",
    "print(\"- Ctrl+M+Y: 切换为代码单元格\")\n",
    "print(\"- Ctrl+M+M: 切换为Markdown单元格\")\n",
    "print()\n",
    "\n",
    "print(\"💡 最佳实践:\")\n",
    "print(\"- 定期保存checkpoints到云盘\")\n",
    "print(\"- 使用相对路径引用云盘文件\")\n",
    "print(\"- 训练前检查GPU可用性\")\n",
    "print(\"- 长时间训练建议开启防断线功能\")\n",
    "print(\"- 及时清理不需要的文件释放空间\")\n",
    "print()\n",
    "\n",
    "print(\"🔧 调试技巧:\")\n",
    "print(\"- 使用 !nvidia-smi 查看GPU使用情况\")\n",
    "print(\"- 使用 !df -h 查看磁盘空间\")\n",
    "print(\"- 使用 !ps aux | grep python 查看运行进程\")\n",
    "print(\"- 训练卡住时重启运行时: 运行时 -> 重启运行时\")\n",
    "\n",
    "# 快速设置代码模板\n",
    "print(\"\\n\" + \"=\"*50)\n",
    "print(\"🚀 快速开始模板:\")\n",
    "print(\"1. 挂载云盘: drive.mount('/content/drive')\")\n",
    "print(\"2. 检查GPU: torch.cuda.is_available()\")\n",
    "print(\"3. 设置路径: data_path = '/content/drive/MyDrive/...'\")\n",
    "print(\"4. 开始训练并定期保存到云盘\")\n"
   ]
  },
  {
   "cell_type": "markdown",
   "metadata": {},
   "source": []
  }
 ],
 "metadata": {
  "accelerator": "GPU",
  "colab": {
   "authorship_tag": "ABX9TyNSmRC6XIo88nWEk/FmQpdz",
   "gpuType": "A100",
   "provenance": []
  },
  "kernelspec": {
   "display_name": "Python 3",
   "name": "python3"
  },
  "language_info": {
   "name": "python"
  }
 },
 "nbformat": 4,
 "nbformat_minor": 0
}
