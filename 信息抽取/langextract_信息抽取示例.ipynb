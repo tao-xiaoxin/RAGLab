{
 "cells": [
  {
   "cell_type": "markdown",
   "metadata": {},
   "source": [
    "# LangExtract 信息抽取笔记本\n",
    "\n",
    "本笔记本演示如何使用 `langextract` 对本仓库 `data/` 中示例文档进行结构化信息抽取（以合同/仲裁文本为例）。\n",
    "\n",
    "提示：首次运行前，请确保安装依赖并配置可用的大模型 API Key。"
   ]
  },
  {
   "cell_type": "code",
   "execution_count": null,
   "metadata": {},
   "outputs": [],
   "source": [
    "# 安装依赖（首次运行取消注释后执行）\n",
    "# %pip install -U langextract pypdf pandas\n",
    "# 如果你使用代理或自建网关，请在下方配置 BASE_URL。"
   ]
  },
  {
   "cell_type": "code",
   "execution_count": null,
   "metadata": {},
   "outputs": [],
   "source": [
    "import os, json, sys\n",
    "from pathlib import Path\n",
    "\n",
    "try:\n",
    "    import langextract\n",
    "    print(\"langextract version:\", getattr(langextract, \"__version__\", \"unknown\"))\n",
    "except ModuleNotFoundError:\n",
    "    print(\"未安装 langextract。请先运行上一个单元安装依赖。\")\n",
    "\n",
    "print(\"Python:\", sys.version)"
   ]
  },
  {
   "cell_type": "code",
   "execution_count": null,
   "metadata": {},
   "outputs": [],
   "source": [
    "# 基础配置：优先从环境变量读取\n",
    "BASE_URL = os.environ.get('OPENAI_BASE_URL') or os.environ.get('BASE_URL') or ''\n",
    "API_KEY = os.environ.get('OPENAI_API_KEY') or os.environ.get('API_KEY') or ''\n",
    "MODEL = os.environ.get('OPENAI_MODEL') or 'gpt-4o-mini'\n",
    "\n",
    "print('Using model:', MODEL)\n",
    "if not API_KEY:\n",
    "    print('警告：未检测到 API Key，请设置 OPENAI_API_KEY 或在此处直接填写 API_KEY 变量。')\n",
    "if BASE_URL:\n",
    "    print('Using base url:', BASE_URL)"
   ]
  },
  {
   "cell_type": "code",
   "execution_count": null,
   "metadata": {},
   "outputs": [],
   "source": [
    "# 定义抽取 Schema（JSON Schema 形式，通用且直观）\n",
    "schema = {\n",
    "    'type': 'object',\n",
    "    'title': 'ContractInfo',\n",
    "    'properties': {\n",
    "        'title': { 'type': 'string', 'description': '文档标题或合同名称' },\n",
    "        'parties': { 'type': 'array', 'items': { 'type': 'string' }, 'description': '合同双方或多方名称' },\n",
    "        'effective_date': { 'type': 'string', 'description': '生效日期（原文格式）' },\n",
    "        'amount': { 'type': 'string', 'description': '金额（含币种），原文格式' },\n",
    "        'duration': { 'type': 'string', 'description': '合同期限' },\n",
    "        'key_clauses': { 'type': 'array', 'items': { 'type': 'string' }, 'description': '关键条款摘要' }\n",
    "    },\n",
    "    'required': ['title', 'parties'],\n",
    "    'additionalProperties': False\n",
    "}\n",
    "\n",
    "system_prompt = (\n",
    "    '你是信息抽取助手。根据给定 Schema 从输入文本中抽取结构化字段。'\n",
    "    '严格输出 JSON，且仅包含指定键；无法确定时可输出空字符串或空数组。'\n",
    ")"
   ]
  },
  {
   "cell_type": "code",
   "execution_count": null,
   "metadata": {},
   "outputs": [],
   "source": [
    "# 读取示例文档（优先选择合同示例，其次仲裁/论文示例）\n",
    "DATA_DIR = Path('data')\n",
    "candidates = [\n",
    "    DATA_DIR / '示例5-合同范本.md',\n",
    "    DATA_DIR / '示例2-仲裁文件.md',\n",
    "    DATA_DIR / '示例1-期刊论文.md',\n",
    "]\n",
    "example = next((p for p in candidates if p.exists()), None)\n",
    "assert example is not None, '未找到示例文件，请确认 data/ 目录下存在示例 Markdown 文档。'\n",
    "\n",
    "text = example.read_text(encoding='utf-8', errors='ignore')\n",
    "print('Loaded:', example, 'chars:', len(text))"
   ]
  },
  {
   "cell_type": "code",
   "execution_count": null,
   "metadata": {},
   "outputs": [],
   "source": [
    "# 使用 langextract 进行抽取（不同版本 API 可能差异，以下提供两种常见写法）\n",
    "result = None\n",
    "try:\n",
    "    from langextract import Extractor\n",
    "    extractor = Extractor(model=MODEL, api_key=API_KEY, base_url=BASE_URL or None)\n",
    "    # 假设 extract 接口支持 schema 与 system prompt\n",
    "    result = extractor.extract(text, schema=schema, system_prompt=system_prompt)\n",
    "except Exception as e:\n",
    "    print('Extractor.extract 方式失败：', repr(e))\n",
    "    try:\n",
    "        from langextract import create_extractor\n",
    "        extractor = create_extractor(model=MODEL, api_key=API_KEY, base_url=BASE_URL or None)\n",
    "        result = extractor(text=text, schema=schema, prompt=system_prompt)\n",
    "    except Exception as e2:\n",
    "        print('create_extractor 方式也失败：', repr(e2))\n",
    "\n",
    "if result:\n",
    "    print(json.dumps(result, ensure_ascii=False, indent=2))\n",
    "else:\n",
    "    print('未得到抽取结果，请根据你使用的 langextract 版本调整上述调用。')"
   ]
  },
  {
   "cell_type": "code",
   "execution_count": null,
   "metadata": {},
   "outputs": [],
   "source": [
    "# 保存抽取结果\n",
    "OUT_DIR = Path('信息抽取') / 'output'\n",
    "OUT_DIR.mkdir(parents=True, exist_ok=True)\n",
    "out_path = OUT_DIR / f'langextract_{example.stem}.json'\n",
    "\n",
    "if 'result' in globals() and result:\n",
    "    out_path.write_text(json.dumps(result, ensure_ascii=False, indent=2), encoding='utf-8')\n",
    "    print('已保存：', out_path.resolve())\n",
    "else:\n",
    "    print('无结果可保存。')"
   ]
  },
  {
   "cell_type": "markdown",
   "metadata": {},
   "source": [
    "## 注意事项\n",
    "- 不同版本的 `langextract` API 可能有所差异；若上面的导入或调用失败，请查看你本地安装版本的文档并对照修改。\n",
    "- 默认使用 `OPENAI_API_KEY` 和可选的 `OPENAI_BASE_URL`/`BASE_URL`；如需使用其他服务商，请在对应参数中切换。\n",
    "- 若需要处理 PDF，可安装 `pypdf` 并自行添加解析逻辑（本示例优先使用已有的 Markdown 文件）。\n",
    "- 结果将保存至 `信息抽取/output/` 目录，便于后续评估与比对。"
   ]
  }
 ],
 "metadata": {
  "kernelspec": {
   "display_name": "Python 3",
   "language": "python",
   "name": "python3"
  },
  "language_info": {
   "name": "python",
   "version": "3"
  }
 },
 "nbformat": 4,
 "nbformat_minor": 5
}

